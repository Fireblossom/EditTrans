{
 "cells": [
  {
   "cell_type": "code",
   "execution_count": 2,
   "metadata": {},
   "outputs": [],
   "source": [
    "import pypandoc\n",
    "table = r\"\"\"\\begin{tabular}{l c c c c c}\n",
    "\\hline \\hline\n",
    " & \\multicolumn{5}{c}{Outcome} \\\\\n",
    " & Emp. & p10 & p25 & p50 & p90 \\\\\n",
    "\\hline\n",
    "\\multicolumn{6}{l}{_Panel A: Regions differ in location parameter, initial min. wage is small_} \\\\\n",
    " Mean causal effect & -0.011 & 0.026 & 0.013 & 0.007 & 0.003 \\\\\n",
    " Fraction affected & -0.013 & 0.028 & 0.014 & 0.008 & 0.004 \\\\\n",
    " & (0.000) & (0.001) & (0.000) & (0.000) & (0.000) \\\\\n",
    " Gap measure & -0.010 & 0.021 & 0.011 & 0.006 & 0.003 \\\\\n",
    " & (0.000) & (0.001) & (0.000) & (0.000) & (0.000) \\\\\n",
    "\\multicolumn{6}{l}{_Panel B: Regions differ in location parameter, initial min. wage is large_} \\\\\n",
    " Mean causal effect & -0.076 & 0.155 & 0.079 & 0.049 & 0.025 \\\\\n",
    " Fraction affected & -0.079 & 0.112 & 0.081 & 0.054 & 0.031 \\\\\n",
    " & (0.002) & (0.014) & (0.003) & (0.000) & (0.001) \\\\\n",
    " Gap measure & -0.055 & 0.074 & 0.058 & 0.038 & 0.022 \\\\\n",
    " & (0.003) & (0.012) & (0.002) & (0.001) & (0.000) \\\\\n",
    "\\multicolumn{6}{l}{_Panel C: Identical regions receive different location shocks, initial min. wage is small_} \\\\\n",
    " Mean causal effect & -0.006 & 0.015 & 0.007 & 0.004 & 0.002 \\\\\n",
    " Effective min. wage & -0.006 & 0.011 & 0.003 & 0.000 & -0.002 \\\\\n",
    " & (0.001) & (0.001) & (0.000) & (0.000) & (0.000) \\\\\n",
    " Effective min. wage, p90 & -0.006 & 0.013 & 0.005 & 0.002 & 0.000 \\\\\n",
    " & (0.001) & (0.001) & (0.001) & (0.000) & (0.000) \\\\\n",
    "\\multicolumn{6}{l}{_Panel D: Identical regions receive different location shocks, initial min. wage is large_} \\\\\n",
    " Mean causal effect & -0.058 & 0.129 & 0.062 & 0.037 & 0.018 \\\\\n",
    " Effective min. wage & -0.059 & 0.092 & 0.024 & 0.000 & -0.019 \\\\\n",
    " & (0.002) & (0.001) & (0.001) & (0.000) & (0.001) \\\\\n",
    " Effective min. wage, p90 & -0.059 & 0.112 & 0.043 & 0.019 & 0.000 \\\\\n",
    " & (0.001) & (0.002) & (0.001) & (0.000) & (0.000) \\\\ \\hline \\hline\n",
    "\\end{tabular}\"\"\""
   ]
  },
  {
   "cell_type": "code",
   "execution_count": 6,
   "metadata": {},
   "outputs": [
    {
     "name": "stdout",
     "output_type": "stream",
     "text": [
      "  ---------------------------------------------------------------------------------------------- --------- --------- --------- --------- ---------\n",
      "                                                                                                  Outcome                                \n",
      "                                                                                                   Emp.       p10       p25       p50       p90\n",
      "  \\_Panel A: Regions differ in location parameter, initial min. wage is small\\_                                                          \n",
      "  Mean causal effect                                                                              -0.011     0.026     0.013     0.007     0.003\n",
      "  Fraction affected                                                                               -0.013     0.028     0.014     0.008     0.004\n",
      "                                                                                                  (0.000)   (0.001)   (0.000)   (0.000)   (0.000)\n",
      "  Gap measure                                                                                     -0.010     0.021     0.011     0.006     0.003\n",
      "                                                                                                  (0.000)   (0.001)   (0.000)   (0.000)   (0.000)\n",
      "  \\_Panel B: Regions differ in location parameter, initial min. wage is large\\_                                                          \n",
      "  Mean causal effect                                                                              -0.076     0.155     0.079     0.049     0.025\n",
      "  Fraction affected                                                                               -0.079     0.112     0.081     0.054     0.031\n",
      "                                                                                                  (0.002)   (0.014)   (0.003)   (0.000)   (0.001)\n",
      "  Gap measure                                                                                     -0.055     0.074     0.058     0.038     0.022\n",
      "                                                                                                  (0.003)   (0.012)   (0.002)   (0.001)   (0.000)\n",
      "  \\_Panel C: Identical regions receive different location shocks, initial min. wage is small\\_                                           \n",
      "  Mean causal effect                                                                              -0.006     0.015     0.007     0.004     0.002\n",
      "  Effective min. wage                                                                             -0.006     0.011     0.003     0.000    -0.002\n",
      "                                                                                                  (0.001)   (0.001)   (0.000)   (0.000)   (0.000)\n",
      "  Effective min. wage, p90                                                                        -0.006     0.013     0.005     0.002     0.000\n",
      "                                                                                                  (0.001)   (0.001)   (0.001)   (0.000)   (0.000)\n",
      "  \\_Panel D: Identical regions receive different location shocks, initial min. wage is large\\_                                           \n",
      "  Mean causal effect                                                                              -0.058     0.129     0.062     0.037     0.018\n",
      "  Effective min. wage                                                                             -0.059     0.092     0.024     0.000    -0.019\n",
      "                                                                                                  (0.002)   (0.001)   (0.001)   (0.000)   (0.001)\n",
      "  Effective min. wage, p90                                                                        -0.059     0.112     0.043     0.019     0.000\n",
      "                                                                                                  (0.001)   (0.002)   (0.001)   (0.000)   (0.000)\n",
      "  ---------------------------------------------------------------------------------------------- --------- --------- --------- --------- ---------\n",
      "\n"
     ]
    }
   ],
   "source": [
    "\n",
    "print(pypandoc.convert_text(table, 'md', format='latex'))"
   ]
  }
 ],
 "metadata": {
  "kernelspec": {
   "display_name": "copylookup",
   "language": "python",
   "name": "python3"
  },
  "language_info": {
   "codemirror_mode": {
    "name": "ipython",
    "version": 3
   },
   "file_extension": ".py",
   "mimetype": "text/x-python",
   "name": "python",
   "nbconvert_exporter": "python",
   "pygments_lexer": "ipython3",
   "version": "3.11.10"
  }
 },
 "nbformat": 4,
 "nbformat_minor": 2
}
