{
 "cells": [
  {
   "cell_type": "code",
   "execution_count": 61,
   "metadata": {},
   "outputs": [
    {
     "name": "stderr",
     "output_type": "stream",
     "text": [
      "/home/duan/miniconda3/envs/copylookup/lib/python3.11/site-packages/tqdm/auto.py:21: TqdmWarning: IProgress not found. Please update jupyter and ipywidgets. See https://ipywidgets.readthedocs.io/en/stable/user_install.html\n",
      "  from .autonotebook import tqdm as notebook_tqdm\n",
      "INFO:albumentations.check_version:A new version of Albumentations is available: 2.0.5 (you have 1.4.8). Upgrade using: pip install --upgrade albumentations\n"
     ]
    }
   ],
   "source": [
    "import json\n",
    "from pathlib import Path\n",
    "\n",
    "from multiprocessing import Pool\n",
    "from collections import defaultdict\n",
    "from nougat.metrics import compute_metrics"
   ]
  },
  {
   "cell_type": "code",
   "execution_count": 2,
   "metadata": {},
   "outputs": [
    {
     "name": "stdout",
     "output_type": "stream",
     "text": [
      "results/olmocr/quant_ph/texts.json\n",
      "olmocr quant_ph w/ edit: {'edit_dist': 0.2570540670256977, 'bleu': 0.5712294563204126, 'meteor': 0.7124170050520345, 'precision': 0.7152218312636611, 'recall': 0.7079469531695719, 'f_measure': 0.7048705634749253}\n",
      "olmocr quant_ph w/o edit: {'edit_dist': 0.2940556588178717, 'bleu': 0.5734380533578551, 'meteor': 0.6993838041116748, 'precision': 0.735458703466868, 'recall': 0.7125796063510864, 'f_measure': 0.7087918311663552}\n",
      "results/olmocr/econ/texts.json\n"
     ]
    },
    {
     "name": "stderr",
     "output_type": "stream",
     "text": [
      "/home/duan/miniconda3/envs/copylookup/lib/python3.11/site-packages/nltk/translate/bleu_score.py:577: UserWarning: \n",
      "The hypothesis contains 0 counts of 4-gram overlaps.\n",
      "Therefore the BLEU score evaluates to 0, independently of\n",
      "how many N-gram overlaps of lower order it contains.\n",
      "Consider using lower n-gram order or use SmoothingFunction()\n",
      "  warnings.warn(_msg)\n",
      "/home/duan/miniconda3/envs/copylookup/lib/python3.11/site-packages/nltk/translate/bleu_score.py:577: UserWarning: \n",
      "The hypothesis contains 0 counts of 4-gram overlaps.\n",
      "Therefore the BLEU score evaluates to 0, independently of\n",
      "how many N-gram overlaps of lower order it contains.\n",
      "Consider using lower n-gram order or use SmoothingFunction()\n",
      "  warnings.warn(_msg)\n"
     ]
    },
    {
     "name": "stdout",
     "output_type": "stream",
     "text": [
      "olmocr econ w/ edit: {'edit_dist': 0.27741178412454326, 'bleu': 0.5848071774863491, 'meteor': 0.7345646908412257, 'precision': 0.7076167028446966, 'recall': 0.7379575341676365, 'f_measure': 0.7124788740466679}\n"
     ]
    },
    {
     "name": "stderr",
     "output_type": "stream",
     "text": [
      "/home/duan/miniconda3/envs/copylookup/lib/python3.11/site-packages/nltk/translate/bleu_score.py:577: UserWarning: \n",
      "The hypothesis contains 0 counts of 4-gram overlaps.\n",
      "Therefore the BLEU score evaluates to 0, independently of\n",
      "how many N-gram overlaps of lower order it contains.\n",
      "Consider using lower n-gram order or use SmoothingFunction()\n",
      "  warnings.warn(_msg)\n",
      "/home/duan/miniconda3/envs/copylookup/lib/python3.11/site-packages/nltk/translate/bleu_score.py:577: UserWarning: \n",
      "The hypothesis contains 0 counts of 4-gram overlaps.\n",
      "Therefore the BLEU score evaluates to 0, independently of\n",
      "how many N-gram overlaps of lower order it contains.\n",
      "Consider using lower n-gram order or use SmoothingFunction()\n",
      "  warnings.warn(_msg)\n"
     ]
    },
    {
     "name": "stdout",
     "output_type": "stream",
     "text": [
      "olmocr econ w/o edit: {'edit_dist': 0.2812246728556994, 'bleu': 0.5945964492860806, 'meteor': 0.742995696570121, 'precision': 0.725677650827987, 'recall': 0.7608959267330959, 'f_measure': 0.7325350467176273}\n",
      "results/olmocr/arxiv/texts.json\n"
     ]
    },
    {
     "name": "stderr",
     "output_type": "stream",
     "text": [
      "/home/duan/miniconda3/envs/copylookup/lib/python3.11/site-packages/nltk/translate/bleu_score.py:577: UserWarning: \n",
      "The hypothesis contains 0 counts of 2-gram overlaps.\n",
      "Therefore the BLEU score evaluates to 0, independently of\n",
      "how many N-gram overlaps of lower order it contains.\n",
      "Consider using lower n-gram order or use SmoothingFunction()\n",
      "  warnings.warn(_msg)\n",
      "/home/duan/miniconda3/envs/copylookup/lib/python3.11/site-packages/nltk/translate/bleu_score.py:577: UserWarning: \n",
      "The hypothesis contains 0 counts of 3-gram overlaps.\n",
      "Therefore the BLEU score evaluates to 0, independently of\n",
      "how many N-gram overlaps of lower order it contains.\n",
      "Consider using lower n-gram order or use SmoothingFunction()\n",
      "  warnings.warn(_msg)\n",
      "/home/duan/miniconda3/envs/copylookup/lib/python3.11/site-packages/nltk/translate/bleu_score.py:577: UserWarning: \n",
      "The hypothesis contains 0 counts of 4-gram overlaps.\n",
      "Therefore the BLEU score evaluates to 0, independently of\n",
      "how many N-gram overlaps of lower order it contains.\n",
      "Consider using lower n-gram order or use SmoothingFunction()\n",
      "  warnings.warn(_msg)\n",
      "/home/duan/miniconda3/envs/copylookup/lib/python3.11/site-packages/nltk/translate/bleu_score.py:577: UserWarning: \n",
      "The hypothesis contains 0 counts of 4-gram overlaps.\n",
      "Therefore the BLEU score evaluates to 0, independently of\n",
      "how many N-gram overlaps of lower order it contains.\n",
      "Consider using lower n-gram order or use SmoothingFunction()\n",
      "  warnings.warn(_msg)\n"
     ]
    },
    {
     "name": "stdout",
     "output_type": "stream",
     "text": [
      "olmocr arxiv w/ edit: {'edit_dist': 0.2949993917465187, 'bleu': 0.5327535304618167, 'meteor': 0.6761238856056545, 'precision': 0.671814878145263, 'recall': 0.6797431576185503, 'f_measure': 0.6676265090742298}\n",
      "olmocr arxiv w/o edit: {'edit_dist': 0.31109073403344223, 'bleu': 0.5414872552580549, 'meteor': 0.6830402131724971, 'precision': 0.6988119161654925, 'recall': 0.6999691660900561, 'f_measure': 0.6886652022991806}\n",
      "results/kosmos/quant_ph/texts.json\n",
      "kosmos quant_ph w/ edit: {'edit_dist': 0.3740137140471438, 'bleu': 0.5455054732443626, 'meteor': 0.6167029181787136, 'precision': 0.7943553867585986, 'recall': 0.6718855419958004, 'f_measure': 0.7134668917876693}\n",
      "kosmos quant_ph w/o edit: {'edit_dist': 0.3848575613627912, 'bleu': 0.5281655569733199, 'meteor': 0.6002451950450817, 'precision': 0.7783467370226094, 'recall': 0.6604797783323813, 'f_measure': 0.6965867002567263}\n",
      "results/kosmos/econ/texts.json\n"
     ]
    },
    {
     "name": "stderr",
     "output_type": "stream",
     "text": [
      "/home/duan/miniconda3/envs/copylookup/lib/python3.11/site-packages/nltk/translate/bleu_score.py:577: UserWarning: \n",
      "The hypothesis contains 0 counts of 4-gram overlaps.\n",
      "Therefore the BLEU score evaluates to 0, independently of\n",
      "how many N-gram overlaps of lower order it contains.\n",
      "Consider using lower n-gram order or use SmoothingFunction()\n",
      "  warnings.warn(_msg)\n",
      "/home/duan/miniconda3/envs/copylookup/lib/python3.11/site-packages/nltk/translate/bleu_score.py:577: UserWarning: \n",
      "The hypothesis contains 0 counts of 3-gram overlaps.\n",
      "Therefore the BLEU score evaluates to 0, independently of\n",
      "how many N-gram overlaps of lower order it contains.\n",
      "Consider using lower n-gram order or use SmoothingFunction()\n",
      "  warnings.warn(_msg)\n",
      "/home/duan/miniconda3/envs/copylookup/lib/python3.11/site-packages/nltk/translate/bleu_score.py:577: UserWarning: \n",
      "The hypothesis contains 0 counts of 4-gram overlaps.\n",
      "Therefore the BLEU score evaluates to 0, independently of\n",
      "how many N-gram overlaps of lower order it contains.\n",
      "Consider using lower n-gram order or use SmoothingFunction()\n",
      "  warnings.warn(_msg)\n",
      "/home/duan/miniconda3/envs/copylookup/lib/python3.11/site-packages/nltk/translate/bleu_score.py:577: UserWarning: \n",
      "The hypothesis contains 0 counts of 3-gram overlaps.\n",
      "Therefore the BLEU score evaluates to 0, independently of\n",
      "how many N-gram overlaps of lower order it contains.\n",
      "Consider using lower n-gram order or use SmoothingFunction()\n",
      "  warnings.warn(_msg)\n",
      "/home/duan/miniconda3/envs/copylookup/lib/python3.11/site-packages/nltk/translate/bleu_score.py:577: UserWarning: \n",
      "The hypothesis contains 0 counts of 4-gram overlaps.\n",
      "Therefore the BLEU score evaluates to 0, independently of\n",
      "how many N-gram overlaps of lower order it contains.\n",
      "Consider using lower n-gram order or use SmoothingFunction()\n",
      "  warnings.warn(_msg)\n"
     ]
    },
    {
     "name": "stdout",
     "output_type": "stream",
     "text": [
      "kosmos econ w/ edit: {'edit_dist': 0.31206936220499787, 'bleu': 0.60452342677437, 'meteor': 0.7068011402410934, 'precision': 0.7687969366656465, 'recall': 0.7427954226887219, 'f_measure': 0.739050984148}\n"
     ]
    },
    {
     "name": "stderr",
     "output_type": "stream",
     "text": [
      "/home/duan/miniconda3/envs/copylookup/lib/python3.11/site-packages/nltk/translate/bleu_score.py:577: UserWarning: \n",
      "The hypothesis contains 0 counts of 4-gram overlaps.\n",
      "Therefore the BLEU score evaluates to 0, independently of\n",
      "how many N-gram overlaps of lower order it contains.\n",
      "Consider using lower n-gram order or use SmoothingFunction()\n",
      "  warnings.warn(_msg)\n",
      "/home/duan/miniconda3/envs/copylookup/lib/python3.11/site-packages/nltk/translate/bleu_score.py:577: UserWarning: \n",
      "The hypothesis contains 0 counts of 3-gram overlaps.\n",
      "Therefore the BLEU score evaluates to 0, independently of\n",
      "how many N-gram overlaps of lower order it contains.\n",
      "Consider using lower n-gram order or use SmoothingFunction()\n",
      "  warnings.warn(_msg)\n",
      "/home/duan/miniconda3/envs/copylookup/lib/python3.11/site-packages/nltk/translate/bleu_score.py:577: UserWarning: \n",
      "The hypothesis contains 0 counts of 4-gram overlaps.\n",
      "Therefore the BLEU score evaluates to 0, independently of\n",
      "how many N-gram overlaps of lower order it contains.\n",
      "Consider using lower n-gram order or use SmoothingFunction()\n",
      "  warnings.warn(_msg)\n",
      "/home/duan/miniconda3/envs/copylookup/lib/python3.11/site-packages/nltk/translate/bleu_score.py:577: UserWarning: \n",
      "The hypothesis contains 0 counts of 3-gram overlaps.\n",
      "Therefore the BLEU score evaluates to 0, independently of\n",
      "how many N-gram overlaps of lower order it contains.\n",
      "Consider using lower n-gram order or use SmoothingFunction()\n",
      "  warnings.warn(_msg)\n",
      "/home/duan/miniconda3/envs/copylookup/lib/python3.11/site-packages/nltk/translate/bleu_score.py:577: UserWarning: \n",
      "The hypothesis contains 0 counts of 4-gram overlaps.\n",
      "Therefore the BLEU score evaluates to 0, independently of\n",
      "how many N-gram overlaps of lower order it contains.\n",
      "Consider using lower n-gram order or use SmoothingFunction()\n",
      "  warnings.warn(_msg)\n"
     ]
    },
    {
     "name": "stdout",
     "output_type": "stream",
     "text": [
      "kosmos econ w/o edit: {'edit_dist': 0.32032204406360426, 'bleu': 0.5904251043682978, 'meteor': 0.6998302299257372, 'precision': 0.7514641437109711, 'recall': 0.7389518403930376, 'f_measure': 0.726709936774428}\n",
      "results/kosmos/arxiv/texts.json\n"
     ]
    },
    {
     "name": "stderr",
     "output_type": "stream",
     "text": [
      "/home/duan/miniconda3/envs/copylookup/lib/python3.11/site-packages/nltk/translate/bleu_score.py:577: UserWarning: \n",
      "The hypothesis contains 0 counts of 3-gram overlaps.\n",
      "Therefore the BLEU score evaluates to 0, independently of\n",
      "how many N-gram overlaps of lower order it contains.\n",
      "Consider using lower n-gram order or use SmoothingFunction()\n",
      "  warnings.warn(_msg)\n",
      "/home/duan/miniconda3/envs/copylookup/lib/python3.11/site-packages/nltk/translate/bleu_score.py:577: UserWarning: \n",
      "The hypothesis contains 0 counts of 4-gram overlaps.\n",
      "Therefore the BLEU score evaluates to 0, independently of\n",
      "how many N-gram overlaps of lower order it contains.\n",
      "Consider using lower n-gram order or use SmoothingFunction()\n",
      "  warnings.warn(_msg)\n"
     ]
    },
    {
     "name": "stdout",
     "output_type": "stream",
     "text": [
      "kosmos arxiv w/ edit: {'edit_dist': 0.38784900550670076, 'bleu': 0.5167583390555457, 'meteor': 0.6007884434594712, 'precision': 0.7379405735547028, 'recall': 0.6444383498905827, 'f_measure': 0.6667621967405177}\n"
     ]
    },
    {
     "name": "stderr",
     "output_type": "stream",
     "text": [
      "/home/duan/miniconda3/envs/copylookup/lib/python3.11/site-packages/nltk/translate/bleu_score.py:577: UserWarning: \n",
      "The hypothesis contains 0 counts of 3-gram overlaps.\n",
      "Therefore the BLEU score evaluates to 0, independently of\n",
      "how many N-gram overlaps of lower order it contains.\n",
      "Consider using lower n-gram order or use SmoothingFunction()\n",
      "  warnings.warn(_msg)\n",
      "/home/duan/miniconda3/envs/copylookup/lib/python3.11/site-packages/nltk/translate/bleu_score.py:577: UserWarning: \n",
      "The hypothesis contains 0 counts of 4-gram overlaps.\n",
      "Therefore the BLEU score evaluates to 0, independently of\n",
      "how many N-gram overlaps of lower order it contains.\n",
      "Consider using lower n-gram order or use SmoothingFunction()\n",
      "  warnings.warn(_msg)\n"
     ]
    },
    {
     "name": "stdout",
     "output_type": "stream",
     "text": [
      "kosmos arxiv w/o edit: {'edit_dist': 0.3841881705645795, 'bleu': 0.5061952050756131, 'meteor': 0.5906467170927757, 'precision': 0.7241106840659942, 'recall': 0.6345363323380068, 'f_measure': 0.6565125638008797}\n",
      "results/nougat/quant_ph/texts.json\n",
      "nougat quant_ph w/ edit: {'edit_dist': 0.3569464899501945, 'bleu': 0.5285058691151986, 'meteor': 0.580770368904994, 'precision': 0.8387121329825618, 'recall': 0.6673344798267008, 'f_measure': 0.7297460943795158}\n",
      "nougat quant_ph w/o edit: {'edit_dist': 0.3494438307332291, 'bleu': 0.5508411278967579, 'meteor': 0.6011713234839715, 'precision': 0.8638134005632551, 'recall': 0.6888401009626579, 'f_measure': 0.7521726365317281}\n",
      "results/nougat/econ/texts.json\n"
     ]
    },
    {
     "name": "stderr",
     "output_type": "stream",
     "text": [
      "/home/duan/miniconda3/envs/copylookup/lib/python3.11/site-packages/nltk/translate/bleu_score.py:577: UserWarning: \n",
      "The hypothesis contains 0 counts of 3-gram overlaps.\n",
      "Therefore the BLEU score evaluates to 0, independently of\n",
      "how many N-gram overlaps of lower order it contains.\n",
      "Consider using lower n-gram order or use SmoothingFunction()\n",
      "  warnings.warn(_msg)\n",
      "/home/duan/miniconda3/envs/copylookup/lib/python3.11/site-packages/nltk/translate/bleu_score.py:577: UserWarning: \n",
      "The hypothesis contains 0 counts of 4-gram overlaps.\n",
      "Therefore the BLEU score evaluates to 0, independently of\n",
      "how many N-gram overlaps of lower order it contains.\n",
      "Consider using lower n-gram order or use SmoothingFunction()\n",
      "  warnings.warn(_msg)\n",
      "/home/duan/miniconda3/envs/copylookup/lib/python3.11/site-packages/nltk/translate/bleu_score.py:577: UserWarning: \n",
      "The hypothesis contains 0 counts of 4-gram overlaps.\n",
      "Therefore the BLEU score evaluates to 0, independently of\n",
      "how many N-gram overlaps of lower order it contains.\n",
      "Consider using lower n-gram order or use SmoothingFunction()\n",
      "  warnings.warn(_msg)\n"
     ]
    },
    {
     "name": "stdout",
     "output_type": "stream",
     "text": [
      "nougat econ w/ edit: {'edit_dist': 0.2780672775467042, 'bleu': 0.6258514611594002, 'meteor': 0.7014734442855606, 'precision': 0.8195830709973972, 'recall': 0.7468557995940581, 'f_measure': 0.7629552052334109}\n"
     ]
    },
    {
     "name": "stderr",
     "output_type": "stream",
     "text": [
      "/home/duan/miniconda3/envs/copylookup/lib/python3.11/site-packages/nltk/translate/bleu_score.py:577: UserWarning: \n",
      "The hypothesis contains 0 counts of 3-gram overlaps.\n",
      "Therefore the BLEU score evaluates to 0, independently of\n",
      "how many N-gram overlaps of lower order it contains.\n",
      "Consider using lower n-gram order or use SmoothingFunction()\n",
      "  warnings.warn(_msg)\n",
      "/home/duan/miniconda3/envs/copylookup/lib/python3.11/site-packages/nltk/translate/bleu_score.py:577: UserWarning: \n",
      "The hypothesis contains 0 counts of 4-gram overlaps.\n",
      "Therefore the BLEU score evaluates to 0, independently of\n",
      "how many N-gram overlaps of lower order it contains.\n",
      "Consider using lower n-gram order or use SmoothingFunction()\n",
      "  warnings.warn(_msg)\n",
      "/home/duan/miniconda3/envs/copylookup/lib/python3.11/site-packages/nltk/translate/bleu_score.py:577: UserWarning: \n",
      "The hypothesis contains 0 counts of 4-gram overlaps.\n",
      "Therefore the BLEU score evaluates to 0, independently of\n",
      "how many N-gram overlaps of lower order it contains.\n",
      "Consider using lower n-gram order or use SmoothingFunction()\n",
      "  warnings.warn(_msg)\n"
     ]
    },
    {
     "name": "stdout",
     "output_type": "stream",
     "text": [
      "nougat econ w/o edit: {'edit_dist': 0.28303526748147045, 'bleu': 0.645474681540117, 'meteor': 0.710960799450518, 'precision': 0.8388706851627296, 'recall': 0.759987277064591, 'f_measure': 0.7788128236982621}\n",
      "results/nougat/arxiv/texts.json\n"
     ]
    },
    {
     "name": "stderr",
     "output_type": "stream",
     "text": [
      "/home/duan/miniconda3/envs/copylookup/lib/python3.11/site-packages/nltk/translate/bleu_score.py:577: UserWarning: \n",
      "The hypothesis contains 0 counts of 3-gram overlaps.\n",
      "Therefore the BLEU score evaluates to 0, independently of\n",
      "how many N-gram overlaps of lower order it contains.\n",
      "Consider using lower n-gram order or use SmoothingFunction()\n",
      "  warnings.warn(_msg)\n",
      "/home/duan/miniconda3/envs/copylookup/lib/python3.11/site-packages/nltk/translate/bleu_score.py:577: UserWarning: \n",
      "The hypothesis contains 0 counts of 4-gram overlaps.\n",
      "Therefore the BLEU score evaluates to 0, independently of\n",
      "how many N-gram overlaps of lower order it contains.\n",
      "Consider using lower n-gram order or use SmoothingFunction()\n",
      "  warnings.warn(_msg)\n"
     ]
    },
    {
     "name": "stdout",
     "output_type": "stream",
     "text": [
      "nougat arxiv w/ edit: {'edit_dist': 0.3352259584201053, 'bleu': 0.5423800814450848, 'meteor': 0.619065890202103, 'precision': 0.8015721632006548, 'recall': 0.6762242988746352, 'f_measure': 0.7155761140843552}\n"
     ]
    },
    {
     "name": "stderr",
     "output_type": "stream",
     "text": [
      "/home/duan/miniconda3/envs/copylookup/lib/python3.11/site-packages/nltk/translate/bleu_score.py:577: UserWarning: \n",
      "The hypothesis contains 0 counts of 3-gram overlaps.\n",
      "Therefore the BLEU score evaluates to 0, independently of\n",
      "how many N-gram overlaps of lower order it contains.\n",
      "Consider using lower n-gram order or use SmoothingFunction()\n",
      "  warnings.warn(_msg)\n",
      "/home/duan/miniconda3/envs/copylookup/lib/python3.11/site-packages/nltk/translate/bleu_score.py:577: UserWarning: \n",
      "The hypothesis contains 0 counts of 4-gram overlaps.\n",
      "Therefore the BLEU score evaluates to 0, independently of\n",
      "how many N-gram overlaps of lower order it contains.\n",
      "Consider using lower n-gram order or use SmoothingFunction()\n",
      "  warnings.warn(_msg)\n"
     ]
    },
    {
     "name": "stdout",
     "output_type": "stream",
     "text": [
      "nougat arxiv w/o edit: {'edit_dist': 0.34389091153787876, 'bleu': 0.5478216503381621, 'meteor': 0.6169311825821463, 'precision': 0.8227152956834871, 'recall': 0.6757628272375651, 'f_measure': 0.7201762528774958}\n"
     ]
    }
   ],
   "source": [
    "index_path = Path('data/rainbow_bank')\n",
    "add_top_string = '{\"primary_language\":\"en\",\"is_rotation_valid\":true,\"rotation_correction\":0,\"is_table\":false,\"is_diagram\":false,\"natural_text\":\"'\n",
    "add_end_string = '\"}'\n",
    "for filename in Path('results').rglob('texts.json'):\n",
    "    print(filename)\n",
    "    dataset = filename.parent.name\n",
    "    index_file = index_path/(dataset+'.txt')\n",
    "    model = filename.parent.parent.name\n",
    "    targets = []\n",
    "    with open(index_file) as f:\n",
    "        for line in f:\n",
    "            index = line.strip()\n",
    "            tgt = index_path/('mmd_'+model)/(index+'.mmd')\n",
    "            if model=='olmocr':\n",
    "                targets.append(add_top_string + tgt.read_text() + add_end_string)\n",
    "            else:\n",
    "                targets.append(tgt.read_text())\n",
    "    d = json.load(filename.open())\n",
    "    edit, orig = [], []\n",
    "    for pair in d:\n",
    "        edit.append(pair['edit'][0])\n",
    "        orig.append(pair[model][0])\n",
    "\n",
    "    metrics = defaultdict(list)\n",
    "    with Pool(128) as p:\n",
    "        _metrics = p.starmap(compute_metrics, iterable=zip(edit, targets))\n",
    "        for m in _metrics:\n",
    "            for key, value in m.items():\n",
    "                metrics[key].append(value)\n",
    "        print(model, dataset, 'w/ edit:', {key: sum(values) / len(values) for key, values in metrics.items()})\n",
    "\n",
    "    metrics = defaultdict(list)\n",
    "    with Pool(128) as p:\n",
    "        _metrics = p.starmap(compute_metrics, iterable=zip(orig, targets))\n",
    "        for m in _metrics:\n",
    "            for key, value in m.items():\n",
    "                metrics[key].append(value)\n",
    "        print(model, dataset, 'w/o edit:', {key: sum(values) / len(values) for key, values in metrics.items()})\n"
   ]
  },
  {
   "cell_type": "code",
   "execution_count": 3,
   "metadata": {},
   "outputs": [
    {
     "name": "stdout",
     "output_type": "stream",
     "text": [
      "olmocr quant_ph steps w/ edit: 738.453125\n",
      "olmocr quant_ph steps w/o edit: 1174.3828125\n",
      "saved steps: 37.11989675427918 \n",
      "\n",
      "olmocr econ steps w/ edit: 561.828125\n",
      "olmocr econ steps w/o edit: 870.0859375\n",
      "saved steps: 35.428432895457526 \n",
      "\n",
      "olmocr arxiv steps w/ edit: 766.6953125\n",
      "olmocr arxiv steps w/o edit: 1148.4765625\n",
      "saved steps: 33.24240672085983 \n",
      "\n",
      "kosmos quant_ph steps w/ edit: 511.9765625\n",
      "kosmos quant_ph steps w/o edit: 911.75\n",
      "saved steps: 43.84682615848643 \n",
      "\n",
      "kosmos econ steps w/ edit: 446.2734375\n",
      "kosmos econ steps w/o edit: 786.6640625\n",
      "saved steps: 43.27013794404775 \n",
      "\n",
      "kosmos arxiv steps w/ edit: 555.8828125\n",
      "kosmos arxiv steps w/o edit: 879.28125\n",
      "saved steps: 36.77986281408822 \n",
      "\n",
      "nougat quant_ph steps w/ edit: 607.6328125\n",
      "nougat quant_ph steps w/o edit: 967.8046875\n",
      "saved steps: 37.215347233994464 \n",
      "\n",
      "nougat econ steps w/ edit: 562.171875\n",
      "nougat econ steps w/o edit: 817.625\n",
      "saved steps: 31.243311420272136 \n",
      "\n",
      "nougat arxiv steps w/ edit: 656.2890625\n",
      "nougat arxiv steps w/o edit: 926.828125\n",
      "saved steps: 29.189776961073555 \n",
      "\n"
     ]
    }
   ],
   "source": [
    "for filename in Path('results').rglob('steps.json'):\n",
    "    model = filename.parent.parent.name\n",
    "    dataset = filename.parent.name\n",
    "    d = json.load(filename.open())\n",
    "    print(model, dataset, 'steps w/ edit:', sum(d['edit'])/len(d['edit']))\n",
    "    print(model, dataset, 'steps w/o edit:', sum(d[model])/len(d[model]))\n",
    "    print('saved steps:', (1-sum(d['edit'])/sum(d[model]))*100, '\\n')"
   ]
  },
  {
   "cell_type": "code",
   "execution_count": 4,
   "metadata": {},
   "outputs": [
    {
     "name": "stdout",
     "output_type": "stream",
     "text": [
      "olmocr quant_ph times w/ edit: 22.327076010406017\n",
      "olmocr quant_ph times in each module:\n",
      "filter: 0.03444122150540352 build sequence: 0.008349031209945679\n",
      "edit action: 0.0019782260060310364 generation step: 22.282307531684637\n",
      "olmocr quant_ph times w/o edit: 35.73091371357441\n",
      "reduced latency: 37.513279986669325 \n",
      "\n",
      "olmocr econ times w/ edit: 17.078057050704956\n",
      "olmocr econ times in each module:\n",
      "filter: 0.032878436148166656 build sequence: 0.00674055702984333\n",
      "edit action: 0.0014620404690504074 generation step: 17.036976017057896\n",
      "olmocr econ times w/o edit: 26.429971273988485\n",
      "reduced latency: 35.38374721007502 \n",
      "\n",
      "olmocr arxiv times w/ edit: 22.912947081029415\n",
      "olmocr arxiv times in each module:\n",
      "filter: 0.03222963027656078 build sequence: 0.006079293787479401\n",
      "edit action: 0.0016938913613557816 generation step: 22.87294426560402\n",
      "olmocr arxiv times w/o edit: 34.47564062476158\n",
      "reduced latency: 33.538734405496285 \n",
      "\n",
      "kosmos quant_ph times w/ edit: 6.661782365292311\n",
      "kosmos quant_ph times in each module:\n",
      "filter: 0.027824100106954575 build sequence: 0.0051769353449344635\n",
      "edit action: 0.001248301938176155 generation step: 6.6275330279022455\n",
      "kosmos quant_ph times w/o edit: 11.995107039809227\n",
      "reduced latency: 44.46250172521794 \n",
      "\n",
      "kosmos econ times w/ edit: 5.816764103248715\n",
      "kosmos econ times in each module:\n",
      "filter: 0.030531784519553185 build sequence: 0.005094248801469803\n",
      "edit action: 0.0008660685271024704 generation step: 5.78027200140059\n",
      "kosmos econ times w/o edit: 10.385477609932423\n",
      "reduced latency: 43.9913663894889 \n",
      "\n",
      "kosmos arxiv times w/ edit: 7.2440373711287975\n",
      "kosmos arxiv times in each module:\n",
      "filter: 0.03379283659160137 build sequence: 0.004944603890180588\n",
      "edit action: 0.0009478982537984848 generation step: 7.204352032393217\n",
      "kosmos arxiv times w/o edit: 11.628096416592598\n",
      "reduced latency: 37.70229355174601 \n",
      "\n",
      "nougat quant_ph times w/ edit: 4.126935958862305\n",
      "nougat quant_ph times in each module:\n",
      "filter: 0.032574908807873726 build sequence: 0.008104570209980011\n",
      "edit action: 0.001957189291715622 generation step: 4.084299290552735\n",
      "nougat quant_ph times w/o edit: 6.595172859728336\n",
      "reduced latency: 37.424900807947914 \n",
      "\n",
      "nougat econ times w/ edit: 3.8476432375609875\n",
      "nougat econ times in each module:\n",
      "filter: 0.03346667252480984 build sequence: 0.007190752774477005\n",
      "edit action: 0.0014276206493377686 generation step: 3.805558191612363\n",
      "nougat econ times w/o edit: 5.632809994742274\n",
      "reduced latency: 31.6922949442211 \n",
      "\n",
      "nougat arxiv times w/ edit: 4.4728384632617235\n",
      "nougat arxiv times in each module:\n",
      "filter: 0.03576549328863621 build sequence: 0.005836980417370796\n",
      "edit action: 0.002346280962228775 generation step: 4.428889708593488\n",
      "nougat arxiv times w/o edit: 6.371844241395593\n",
      "reduced latency: 29.803079080256044 \n",
      "\n"
     ]
    }
   ],
   "source": [
    "for filename in Path('results').rglob('times.json'):\n",
    "    model = filename.parent.parent.name\n",
    "    dataset = filename.parent.name\n",
    "    d = json.load(filename.open())\n",
    "    edit_time = sum(d['filter']+d['edit']+d['build']+d['generation'])/len(d['edit'])\n",
    "    print(model, dataset, 'times w/ edit:', edit_time)\n",
    "    print(model, dataset, 'times in each module:')\n",
    "    print('filter:', sum(d['filter'])/len(d['edit']), 'build sequence:', sum(d['build'])/len(d['edit']))\n",
    "    print('edit action:', sum(d['edit'])/len(d['edit']), 'generation step:', sum(d['generation'])/len(d['edit']))\n",
    "    no_edit_time = sum(d[model])/len(d[model])\n",
    "    print(model, dataset, 'times w/o edit:', no_edit_time)\n",
    "    print('reduced latency:', (1-edit_time/no_edit_time)*100, '\\n')"
   ]
  },
  {
   "cell_type": "code",
   "execution_count": 60,
   "metadata": {},
   "outputs": [
    {
     "data": {
      "image/png": "[encoded data removed]",
      "text/plain": [
       "<Figure size 1000x600 with 4 Axes>"
      ]
     },
     "metadata": {},
     "output_type": "display_data"
    }
   ],
   "source": [
    "import matplotlib.patches as patches\n",
    "import numpy as np\n",
    "import matplotlib.pyplot as plt\n",
    "import numpy as np\n",
    "\n",
    "# Reinitialize data\n",
    "backbones = ['olmocr w/ ET', 'olmocr w/o ET', 'kosmos w/ ET', 'kosmos w/o ET', 'nougat w/ ET', 'nougat w/o ET']\n",
    "modules = ['Editable Text Identification', 'Edit Queue Building', 'Edit Actions Execution', 'Generation Steps']\n",
    "\n",
    "# Latency values (redefine since execution state was lost)\n",
    "olmocr_avg = np.array([0.03318310, 0.00705629, 0.00171139, 20.73074260])\n",
    "olmocr_avg_wo = np.array([0,0,0, 96.63652561232448/3])\n",
    "\n",
    "kosmos_avg = np.array([0.03071624, 0.00507193, 0.00102076, 6.53738569])\n",
    "kosmos_avg_wo = np.array([0,0,0, 34.00868106633425/3])\n",
    "\n",
    "nougat_avg = np.array([0.03393569, 0.00704410, 0.00191036, 4.10624906])\n",
    "nougat_avg_wo = np.array([0,0,0, 18.599827095866203/3])\n",
    "\n",
    "# Stack into an array for plotting\n",
    "averages = np.array([olmocr_avg, olmocr_avg_wo, kosmos_avg, kosmos_avg_wo, nougat_avg, nougat_avg_wo])\n",
    "\n",
    "\n",
    "y_positions = np.array([3.5, 3.2, 2.5, 2.2, 1.5, 1.2][::-1])\n",
    "\n",
    "# Create figure and main axis with thinner bars\n",
    "fig, ax = plt.subplots(figsize=(10, 6))\n",
    "bar_height = 0.1  # Reduce bar thickness\n",
    "\n",
    "# Reset bottom positions\n",
    "bottom = np.zeros(len(backbones))\n",
    "\n",
    "# Colors for modules\n",
    "module_colors = [\"#98FB98\", \"#FFD700\", \"#87CEFA\", \"#FFB6C1\"] \n",
    "\n",
    "# Plot the main stacked bar chart with thinner bars\n",
    "for i, module in enumerate(modules):\n",
    "    ax.barh(y_positions, averages[:, i], left=bottom, color=module_colors[i], label=module, height=bar_height)\n",
    "    bottom += averages[:, i]\n",
    "\n",
    "# Zoom-in area: focus only on the top left part of the nougat bar\n",
    "zoom_x = 0.15  # Position of zoom box (rightward shift)\n",
    "zoom_y = 0.8   # Position of zoom box (upward shift)\n",
    "zoom_width = 0.2  # Width of zoom box\n",
    "zoom_height = 0.1  # Height of zoom box\n",
    "\n",
    "# Coordinates for the zoomed-in area (upper-left part of nougat bar)\n",
    "zoom_box_x = 3.9\n",
    "zoom_box_y = 0.85\n",
    "zoom_box_width = np.sum(averages[4][:3]) * zoom_width * 30 # Width depends on nougat's total time\n",
    "zoom_box_height = 0.08  # Focuses only on the upper left\n",
    "\n",
    "# Draw the zoomed-in box\n",
    "axins = fig.add_axes([zoom_box_x / 5 /  2.5, zoom_box_y / 3 * 2.2 + 0.03, zoom_box_width, zoom_box_height])\n",
    "\n",
    "# Stacked bar for nougat in zoomed-in box (focusing only on first part)\n",
    "bottom_zoom = np.zeros(1)\n",
    "for i, module in enumerate(modules[:3]):  # Only showing first three modules\n",
    "    axins.barh([' '], averages[4, i], left=bottom_zoom, color=module_colors[i], height=bar_height)\n",
    "    bottom_zoom += averages[4, i]\n",
    "\n",
    "# Draw the zoomed-in box\n",
    "zoom_box_width = np.sum(averages[2][:3]) * zoom_width * 30 # Width depends on nougat's total time\n",
    "axins1 = fig.add_axes([zoom_box_x / 5 /  2.5, zoom_box_y / 3 * 2.2 - 0.22, zoom_box_width, zoom_box_height])\n",
    "\n",
    "# Stacked bar for nougat in zoomed-in box (focusing only on first part)\n",
    "bottom_zoom1 = np.zeros(1)\n",
    "for i, module in enumerate(modules[:3]):  # Only showing first three modules\n",
    "    axins1.barh([' '], averages[2, i], left=bottom_zoom1, color=module_colors[i], height=bar_height)\n",
    "    bottom_zoom1 += averages[2, i]\n",
    "\n",
    "# Draw the zoomed-in box\n",
    "zoom_box_width = np.sum(averages[0][:3]) * zoom_width * 30 # Width depends on nougat's total time\n",
    "axins2 = fig.add_axes([zoom_box_x / 5 /  2.5, zoom_box_y / 3 * 2.2 - 0.46, zoom_box_width, zoom_box_height])\n",
    "\n",
    "# Stacked bar for nougat in zoomed-in box (focusing only on first part)\n",
    "bottom_zoom2 = np.zeros(1)\n",
    "for i, module in enumerate(modules[:3]):  # Only showing first three modules\n",
    "    axins2.barh([' '], averages[0, i], left=bottom_zoom2, color=module_colors[i], height=bar_height)\n",
    "    bottom_zoom2 += averages[0, i]\n",
    "\n",
    "# Add rectangle to highlight the zoomed-in area on the main plot (top left part of nougat bar)\n",
    "rect = patches.Rectangle(\n",
    "    (0, 3.2-0.1), np.sum(averages[2]) * zoom_width, 0.2,  # Focus only on top left\n",
    "    linewidth=1.5, edgecolor='red', facecolor='none', linestyle='dashed'\n",
    ")\n",
    "ax.add_patch(rect)\n",
    "rect = patches.Rectangle(\n",
    "    (0, 2.2-0.1), np.sum(averages[2]) * zoom_width, 0.2,  # Focus only on top left\n",
    "    linewidth=1.5, edgecolor='red', facecolor='none', linestyle='dashed'\n",
    ")\n",
    "ax.add_patch(rect)\n",
    "rect = patches.Rectangle(\n",
    "    (0, 1.2-0.1), np.sum(averages[2]) * zoom_width, 0.2,  # Focus only on top left\n",
    "    linewidth=1.5, edgecolor='red', facecolor='none', linestyle='dashed'\n",
    ")\n",
    "ax.add_patch(rect)\n",
    "\n",
    "# Draw an arrow from the zoomed-in area to the magnified view\n",
    "arrow = patches.ConnectionPatch(\n",
    "    xyA=(np.sum(averages[2]) * zoom_width, 3.1), xyB=(0, 0), coordsA=ax.transData, coordsB=axins.transData,\n",
    "    arrowstyle=\"-|>\", color=\"black\", linewidth=1.5\n",
    ")\n",
    "fig.add_artist(arrow)\n",
    "\n",
    "# Draw an arrow from the zoomed-in area to the magnified view\n",
    "arrow1 = patches.ConnectionPatch(\n",
    "    xyA=(np.sum(averages[2]) * zoom_width, 2.1), xyB=(0, 0), coordsA=ax.transData, coordsB=axins1.transData,\n",
    "    arrowstyle=\"-|>\", color=\"black\", linewidth=1.5\n",
    ")\n",
    "fig.add_artist(arrow1)\n",
    "\n",
    "arrow2 = patches.ConnectionPatch(\n",
    "    xyA=(np.sum(averages[2]) * zoom_width, 1.1), xyB=(0, 0), coordsA=ax.transData, coordsB=axins2.transData,\n",
    "    arrowstyle=\"-|>\", color=\"black\", linewidth=1.5\n",
    ")\n",
    "fig.add_artist(arrow2)\n",
    "\n",
    "# Add x-axis to the zoomed-in part\n",
    "#axins.set_xlabel(\"Time (seconds)\")\n",
    "#axins.set_xticks(np.linspace(0, 0.05, 5))  # Adding tick marks\n",
    "#axins1.set_xticks(np.linspace(0, 0.05, 5))\n",
    "#axins2.set_xticks(np.linspace(0, 0.05, 5))\n",
    "\n",
    "# Labels and title\n",
    "ax.set_xlabel('Average Time (seconds)')\n",
    "#ax.set_ylabel('Backbone Models')\n",
    "#ax.set_title('Average Latency Breakdown with Zoom-in on Nougat (Top Left Part)')\n",
    "ax.legend(title=\"Modules\")\n",
    "ax.set_ylim(0.5, 3.8)\n",
    "\n",
    "ax.set_yticks(y_positions)\n",
    "ax.set_yticklabels(['OlmOCR w/ ET', 'OlmOCR w/o ET', 'Kosmos-2.5 w/ ET', 'Kosmos-2.5 w/o ET', 'Nougat w/ ET', 'Nougat w/o ET'])\n",
    "\n",
    "plt.savefig(\"fig1.pdf\", bbox_inches='tight')\n",
    "plt.show()"
   ]
  },
  {
   "cell_type": "code",
   "execution_count": 64,
   "metadata": {},
   "outputs": [
    {
     "name": "stdout",
     "output_type": "stream",
     "text": [
      "results/olmocr/quant_ph/steps.json\n",
      "3.90625\n",
      "results/olmocr/econ/steps.json\n",
      "1.5625\n",
      "results/olmocr/arxiv/steps.json\n",
      "10.15625\n",
      "results/kosmos/quant_ph/steps.json\n",
      "62.5\n",
      "results/kosmos/econ/steps.json\n",
      "37.5\n",
      "results/kosmos/arxiv/steps.json\n",
      "54.6875\n",
      "results/nougat/quant_ph/steps.json\n",
      "80.46875\n",
      "results/nougat/econ/steps.json\n",
      "43.75\n",
      "results/nougat/arxiv/steps.json\n",
      "67.1875\n"
     ]
    }
   ],
   "source": [
    "maxes = {'nougat': 1025, 'kosmos': 1024, 'olmocr':2048}\n",
    "for filename in Path('results').rglob('steps.json'):\n",
    "    print(filename)\n",
    "    dataset = filename.parent.name\n",
    "    model = filename.parent.parent.name\n",
    "    d = json.load(filename.open())\n",
    "    count = 0\n",
    "    for i in d[model]:\n",
    "        if i == maxes[model]:\n",
    "            count += 1\n",
    "    print(count/len(d[model])*100)"
   ]
  }
 ],
 "metadata": {
  "kernelspec": {
   "display_name": "copylookup",
   "language": "python",
   "name": "python3"
  },
  "language_info": {
   "codemirror_mode": {
    "name": "ipython",
    "version": 3
   },
   "file_extension": ".py",
   "mimetype": "text/x-python",
   "name": "python",
   "nbconvert_exporter": "python",
   "pygments_lexer": "ipython3",
   "version": "3.11.10"
  }
 },
 "nbformat": 4,
 "nbformat_minor": 2
}
