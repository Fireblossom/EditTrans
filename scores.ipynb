{
 "cells": [
  {
   "cell_type": "code",
   "execution_count": 1,
   "metadata": {},
   "outputs": [],
   "source": [
    "import json\n",
    "import numpy as np\n",
    "\n",
    "nougat_score = json.load(open('score_nougat.json'))\n",
    "edit_score = json.load(open('score_edit.json'))\n",
    "steps = json.load(open('steps.json.json'))"
   ]
  },
  {
   "cell_type": "code",
   "execution_count": 14,
   "metadata": {},
   "outputs": [],
   "source": [
    "nougat_score_table = json.load(open('score_nougat_table.json'))\n",
    "edit_score_table = json.load(open('score_edit_table.json'))\n",
    "nougat_score_text = json.load(open('score_nougat_text.json'))\n",
    "edit_score_text = json.load(open('score_edit_text.json'))\n",
    "nougat_score_math = json.load(open('score_nougat_math.json'))\n",
    "edit_score_math = json.load(open('score_edit_math.json'))"
   ]
  },
  {
   "cell_type": "code",
   "execution_count": 16,
   "metadata": {},
   "outputs": [],
   "source": [
    "x = np.array(nougat_score['f_measure'])\n",
    "y = np.array(edit_score['f_measure'])\n",
    "x_table = np.array(nougat_score_table['f_measure'])\n",
    "y_table = np.array(edit_score_table['f_measure'])\n",
    "x_text = np.array(nougat_score_text['f_measure'])\n",
    "y_text = np.array(edit_score_text['f_measure'])\n",
    "x_math = np.array(nougat_score_math['f_measure'])\n",
    "y_math = np.array(edit_score_math['f_measure'])"
   ]
  },
  {
   "cell_type": "code",
   "execution_count": 19,
   "metadata": {},
   "outputs": [
    {
     "name": "stdout",
     "output_type": "stream",
     "text": [
      "0.8380427999623444\n",
      "0.9135802469135801\n",
      "0.8822385951011961\n",
      "0.7433450837473718\n"
     ]
    }
   ],
   "source": [
    "print(np.average(x[np.array(nougat_score['edit_dist'])<0.25]))\n",
    "print(np.average(x_table[np.array(nougat_score_table['edit_dist'])<0.25]))\n",
    "print(np.average(x_text[np.array(nougat_score_text['edit_dist'])<0.25]))\n",
    "print(np.average(x_math[np.array(nougat_score_math['edit_dist'])<0.25]))"
   ]
  },
  {
   "cell_type": "code",
   "execution_count": 21,
   "metadata": {},
   "outputs": [
    {
     "name": "stdout",
     "output_type": "stream",
     "text": [
      "0.856024703249037\n",
      "0.8860759493670887\n",
      "0.9014662446153213\n",
      "0.7186650641326467\n"
     ]
    }
   ],
   "source": [
    "print(np.average(y[np.array(nougat_score['edit_dist'])<0.25]))\n",
    "print(np.average(y_table[np.array(nougat_score_table['edit_dist'])<0.25]))\n",
    "print(np.average(y_text[np.array(nougat_score_text['edit_dist'])<0.25]))\n",
    "print(np.average(y_math[np.array(edit_score_math['edit_dist'])<0.25]))"
   ]
  },
  {
   "cell_type": "code",
   "execution_count": 23,
   "metadata": {},
   "outputs": [],
   "source": [
    "x = np.array(nougat_score['edit_dist'])\n",
    "y = np.array(edit_score['edit_dist'])\n",
    "x_table = np.array(nougat_score_table['edit_dist'])\n",
    "y_table = np.array(edit_score_table['edit_dist'])\n",
    "x_text = np.array(nougat_score_text['edit_dist'])\n",
    "y_text = np.array(edit_score_text['edit_dist'])\n",
    "x_math = np.array(nougat_score_math['edit_dist'])\n",
    "y_math = np.array(edit_score_math['edit_dist'])"
   ]
  },
  {
   "cell_type": "code",
   "execution_count": 28,
   "metadata": {},
   "outputs": [
    {
     "name": "stdout",
     "output_type": "stream",
     "text": [
      "0.11789595126560572\n",
      "0.16908212560386474\n",
      "0.12268693351100797\n",
      "0.10399177111197985\n"
     ]
    }
   ],
   "source": [
    "print(np.average(x[np.array(edit_score['edit_dist'])<0.25]))\n",
    "print(np.average(x_table[np.array(edit_score_table['edit_dist'])<0.25]))\n",
    "print(np.average(x_text[np.array(edit_score_text['edit_dist'])<0.25]))\n",
    "print(np.average(x_math[np.array(nougat_score_math['edit_dist'])<0.25]))"
   ]
  },
  {
   "cell_type": "code",
   "execution_count": 26,
   "metadata": {},
   "outputs": [
    {
     "name": "stdout",
     "output_type": "stream",
     "text": [
      "0.09511940503005457\n",
      "0.20531400966183574\n",
      "0.0972153081279734\n",
      "0.11262308207017777\n"
     ]
    }
   ],
   "source": [
    "print(np.average(y[np.array(edit_score['edit_dist'])<0.25]))\n",
    "print(np.average(y_table[np.array(edit_score_table['edit_dist'])<0.25]))\n",
    "print(np.average(y_text[np.array(edit_score_text['edit_dist'])<0.25]))\n",
    "print(np.average(y_math[np.array(edit_score_math['edit_dist'])<0.25]))"
   ]
  },
  {
   "cell_type": "code",
   "execution_count": 2,
   "metadata": {},
   "outputs": [],
   "source": [
    "x = np.array(steps['edit'])\n",
    "y = np.array(steps['nougat'])"
   ]
  },
  {
   "cell_type": "code",
   "execution_count": 5,
   "metadata": {},
   "outputs": [],
   "source": [
    "times = json.load(open('times.json'))"
   ]
  },
  {
   "cell_type": "code",
   "execution_count": 34,
   "metadata": {},
   "outputs": [],
   "source": [
    "x = np.array(times['generation'])\n",
    "y = np.array(times['nougat'])\n",
    "z1 = np.array(times['filter'])\n",
    "z2 = np.array(times['edit'])\n",
    "z3 = np.array(times['build'])"
   ]
  },
  {
   "cell_type": "code",
   "execution_count": 67,
   "metadata": {},
   "outputs": [
    {
     "data": {
      "text/plain": [
       "5.936049089199159"
      ]
     },
     "execution_count": 67,
     "metadata": {},
     "output_type": "execute_result"
    }
   ],
   "source": [
    "np.average(x[(np.array(steps['edit'])>400)&(np.array(steps['edit'])<500)])"
   ]
  },
  {
   "cell_type": "code",
   "execution_count": 68,
   "metadata": {},
   "outputs": [
    {
     "data": {
      "text/plain": [
       "4.007699152318443"
      ]
     },
     "execution_count": 68,
     "metadata": {},
     "output_type": "execute_result"
    }
   ],
   "source": [
    "np.average(y[(np.array(steps['edit'])>400)&(np.array(steps['edit'])<500)])"
   ]
  },
  {
   "cell_type": "code",
   "execution_count": 69,
   "metadata": {},
   "outputs": [
    {
     "data": {
      "text/plain": [
       "0.020161035584240424"
      ]
     },
     "execution_count": 69,
     "metadata": {},
     "output_type": "execute_result"
    }
   ],
   "source": [
    "np.average(z1[(np.array(steps['edit'])>400)&(np.array(steps['edit'])<500)])"
   ]
  },
  {
   "cell_type": "code",
   "execution_count": 70,
   "metadata": {},
   "outputs": [
    {
     "data": {
      "text/plain": [
       "0.007040111030020365"
      ]
     },
     "execution_count": 70,
     "metadata": {},
     "output_type": "execute_result"
    }
   ],
   "source": [
    "np.average(z2[(np.array(steps['edit'])>400)&(np.array(steps['edit'])<500)])"
   ]
  },
  {
   "cell_type": "code",
   "execution_count": 71,
   "metadata": {},
   "outputs": [
    {
     "data": {
      "text/plain": [
       "0.0013769777809701314"
      ]
     },
     "execution_count": 71,
     "metadata": {},
     "output_type": "execute_result"
    }
   ],
   "source": [
    "np.average(z3[(np.array(steps['edit'])>400)&(np.array(steps['edit'])<500)])"
   ]
  },
  {
   "cell_type": "code",
   "execution_count": 3,
   "metadata": {},
   "outputs": [
    {
     "data": {
      "text/plain": [
       "290.77777777777777"
      ]
     },
     "execution_count": 3,
     "metadata": {},
     "output_type": "execute_result"
    }
   ],
   "source": [
    "np.average(x[np.array(nougat_score['edit_dist'])<0.25])"
   ]
  },
  {
   "cell_type": "code",
   "execution_count": 4,
   "metadata": {},
   "outputs": [
    {
     "data": {
      "text/plain": [
       "495.8888888888889"
      ]
     },
     "execution_count": 4,
     "metadata": {},
     "output_type": "execute_result"
    }
   ],
   "source": [
    "np.average(y[np.array(nougat_score['edit_dist'])<0.25])"
   ]
  }
 ],
 "metadata": {
  "kernelspec": {
   "display_name": "venv",
   "language": "python",
   "name": "python3"
  },
  "language_info": {
   "codemirror_mode": {
    "name": "ipython",
    "version": 3
   },
   "file_extension": ".py",
   "mimetype": "text/x-python",
   "name": "python",
   "nbconvert_exporter": "python",
   "pygments_lexer": "ipython3",
   "version": "3.9.5"
  }
 },
 "nbformat": 4,
 "nbformat_minor": 2
}
